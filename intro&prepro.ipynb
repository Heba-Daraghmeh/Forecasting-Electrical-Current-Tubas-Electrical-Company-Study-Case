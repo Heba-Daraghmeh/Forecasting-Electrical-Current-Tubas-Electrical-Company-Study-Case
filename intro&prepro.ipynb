{
 "cells": [
  {
   "cell_type": "markdown",
   "id": "70221ab9",
   "metadata": {},
   "source": [
    "# Forecast Electric power consumption - Tubas Electrical Company Data 2019\n",
    "\n",
    "## Table of Content\n",
    "<ul>\n",
    "    <li><a href=\"#intro\">Introduction</a></li>\n",
    "    <li><a href=\"#wrangling\">Data Preprocessing</a></li>\n",
    "    <li><a href='#augm'> Data Augmentation</a></li>\n",
    "</ul>"
   ]
  },
  {
   "cell_type": "markdown",
   "id": "9bce97cd",
   "metadata": {},
   "source": [
    "<a id='intro'></a>\n",
    "## Introduction\n",
    "\n",
    "### Dataset Description \n",
    "> - **Name:** Tiaser Electrical Consumbtion-2019\n",
    "> - **Source:** Tubas Electrical company\n",
    "> - **Purpose:** The main goal of my project is to train and test four prediction models, compare their accuracy, and select the best model to develop further for the company.\n",
    "> - **Collection Method:** The data was collected by directly contacting the company, which then provided the dataset in CSV format.\n",
    "> - **Time Period:** I collected this data in August 2023 when I started working on my graduation project.\n",
    "### Variables description\n",
    ">The data set contains 5 columns, that shows the current reads at that date and time.\n",
    "> <ul>\n",
    "    <li><b>Date</b> <br> The date </li>\n",
    "    <li><b>Time_24_hour</b> <br> Time in 24 hour formate </li>\n",
    "    <li><b>I1</b><br> Current read for phase 1 </li>\n",
    "    <li><b>I2</b><br> Current read for phase 2 </li>\n",
    "    <li><b>I3</b><br> Current read for phase 3 </li>\n",
    "</ul>"
   ]
  },
  {
   "cell_type": "markdown",
   "id": "388087dc",
   "metadata": {},
   "source": [
    "<a id='wrangling'></a>\n",
    "## Data Preprocessing\n",
    "> <b>The data where sent by the company in a csv file that contains many attributes as appearing in this picture. </b>\n",
    "![Tubas Electrical Company Data](rawData.png)\n",
    "\n",
    "\n",
    "> <b>The needed columns where taken to a new xlsx file to be cleaned since there is many null values and these need to be fiiled </b>\n",
    "![Tubas Electrical Company Data](rawData2.png)\n",
    "\n",
    "\n",
    "> <b>a plot for the data After interpolating it. </b>\n",
    "![3phases plot before cleaning](3phasesPlotBeforClean.png)\n",
    "> <b>But as seen in the plot there is many outliers and these need to be corrected, after correcting them manualy the plot appears like this.</b>\n",
    "\n",
    "![3phases plot After cleaning](3phasesPlotAfterClean.png)\n",
    "\n",
    "\n",
    "> <b> The plot shows that there are some outlying in the last three months. But to be sure we reached out the company to ensure if that is normal or not, they have told us that is not normal and some interrupts was happening at that time. these intterups may be coused of some problems or issues in the company's Power transformers.\n",
    "To get a more accurate results in our prediction we must fix these outliers, the outlying is happening in the last days of October and all of November and December, and the best values to get for these monthes is, get data From April, add nois to it, and replace the outlying in October with it, the same for March with November, and Febreury with December.\n",
    "This is the plot After manpulating.</b>\n",
    "![Data After Manpulating](DataAfterManpulation.png)"
   ]
  },
  {
   "cell_type": "markdown",
   "id": "4c1d8992",
   "metadata": {},
   "source": [
    "<a id='augm'></a>\n",
    "# Augment the data into 4 years\n",
    "\n",
    "Since we only have one year of data to train the models, we decided to augment the data to simulate four years. This allows us to train and test the models again, experimenting with different training and testing periods to achieve more accurate results and make a better-informed decision on which model to develop."
   ]
  },
  {
   "cell_type": "code",
   "execution_count": null,
   "id": "992f5207",
   "metadata": {},
   "outputs": [],
   "source": [
    "df = pd.read_csv('input_data2019.csv')\n",
    "\n",
    "# Generate additional years\n",
    "years_to_augment = 4\n",
    "df_augmented = pd.concat([df] * years_to_augment, ignore_index=True)\n",
    "\n",
    "# Update datetime column to cover five years\n",
    "hours_per_year = 24 * 365\n",
    "df_augmented['Datetime'] = pd.date_range(start=df['Datetime'].iloc[0], periods=len(df_augmented), freq='H')\n",
    "\n",
    "# Add a little noise to the data\n",
    "noise_level = 0.1  # 5% noise\n",
    "columns_to_add_noise = ['I1', 'I2', 'I3']\n",
    "for column in columns_to_add_noise:\n",
    "    noise = np.random.normal(scale=df[column].std() * noise_level, size=len(df_augmented))\n",
    "    df_augmented[column] += noise\n",
    "\n",
    "# Save or further process the augmented data\n",
    "df_augmented.to_csv('input_data2019-augmented.csv', index=False)"
   ]
  }
 ],
 "metadata": {
  "kernelspec": {
   "display_name": "Python 3 (ipykernel)",
   "language": "python",
   "name": "python3"
  },
  "language_info": {
   "codemirror_mode": {
    "name": "ipython",
    "version": 3
   },
   "file_extension": ".py",
   "mimetype": "text/x-python",
   "name": "python",
   "nbconvert_exporter": "python",
   "pygments_lexer": "ipython3",
   "version": "3.11.5"
  }
 },
 "nbformat": 4,
 "nbformat_minor": 5
}
